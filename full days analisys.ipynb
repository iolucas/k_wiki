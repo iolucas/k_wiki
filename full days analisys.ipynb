{
 "cells": [
  {
   "cell_type": "code",
   "execution_count": null,
   "metadata": {
    "collapsed": true
   },
   "outputs": [],
   "source": [
    "%matplotlib inline\n",
    "%config InlineBackend.figure_format = 'retina'\n",
    "\n",
    "import numpy as np\n",
    "import matplotlib.pyplot as plt"
   ]
  },
  {
   "cell_type": "code",
   "execution_count": null,
   "metadata": {
    "collapsed": true
   },
   "outputs": [],
   "source": [
    "data_path = '../train_1.csv/train_1.csv'\n",
    "import csv\n",
    "\n",
    "def data_rows(filepath):\n",
    "    with open(data_path) as csvfile:\n",
    "        spamreader = csv.reader(csvfile)\n",
    "        \n",
    "        next(spamreader) #skip first row        \n",
    "        \n",
    "        while(True):\n",
    "            try:\n",
    "               next_value = next(spamreader)\n",
    "            except:\n",
    "                continue\n",
    "\n",
    "            if next_value == None:\n",
    "                break\n",
    "            \n",
    "            yield next_value"
   ]
  },
  {
   "cell_type": "code",
   "execution_count": null,
   "metadata": {},
   "outputs": [],
   "source": [
    "for i, r in enumerate(data_rows(data_path)):\n",
    "    try:\n",
    "        values = np.array(r[1:]).astype(np.int) #Get valid weeks\n",
    "\n",
    "        days = np.array(range(len(values)))      \n",
    "        \n",
    "        z = np.polyfit(days[:400], values[:400], 1)\n",
    "\n",
    "        p = np.poly1d(z)\n",
    "        \n",
    "        plt.plot(days, values)\n",
    "        #plt.show()\n",
    "        \n",
    "        max_days = np.array(range(len(values) + 0))\n",
    "        \n",
    "        plt.plot(max_days, p(max_days))\n",
    "        plt.show()\n",
    "                \n",
    "    except:\n",
    "        pass\n",
    "    \n",
    "    if i == 50:\n",
    "        break"
   ]
  },
  {
   "cell_type": "code",
   "execution_count": null,
   "metadata": {
    "collapsed": true
   },
   "outputs": [],
   "source": []
  }
 ],
 "metadata": {
  "kernelspec": {
   "display_name": "Python 3",
   "language": "python",
   "name": "python3"
  },
  "language_info": {
   "codemirror_mode": {
    "name": "ipython",
    "version": 3
   },
   "file_extension": ".py",
   "mimetype": "text/x-python",
   "name": "python",
   "nbconvert_exporter": "python",
   "pygments_lexer": "ipython3",
   "version": "3.5.3"
  }
 },
 "nbformat": 4,
 "nbformat_minor": 2
}
