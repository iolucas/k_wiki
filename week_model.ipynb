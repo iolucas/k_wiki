{
 "cells": [
  {
   "cell_type": "code",
   "execution_count": null,
   "metadata": {
    "collapsed": true
   },
   "outputs": [],
   "source": [
    "# Web Traffic Time Series Forecasting\n",
    "## Forecast future traffic to Wikipedia pages"
   ]
  },
  {
   "cell_type": "code",
   "execution_count": null,
   "metadata": {
    "collapsed": true
   },
   "outputs": [],
   "source": [
    "%matplotlib inline\n",
    "%config InlineBackend.figure_format = 'retina'\n",
    "\n",
    "import numpy as np\n",
    "import pandas as pd\n",
    "import matplotlib.pyplot as plt"
   ]
  },
  {
   "cell_type": "code",
   "execution_count": null,
   "metadata": {
    "collapsed": true
   },
   "outputs": [],
   "source": [
    "data_path = '../train_1.csv/train_1.csv'\n",
    "import csv\n",
    "\n",
    "\n",
    "def data_rows(filepath):\n",
    "    with open(data_path) as csvfile:\n",
    "        spamreader = csv.reader(csvfile)\n",
    "        \n",
    "        next(spamreader) #skip first row        \n",
    "        \n",
    "        while(True):\n",
    "            try:\n",
    "               next_value = next(spamreader)\n",
    "            except:\n",
    "                continue\n",
    "\n",
    "            if next_value == None:\n",
    "                break\n",
    "            \n",
    "            yield next_value"
   ]
  },
  {
   "cell_type": "code",
   "execution_count": null,
   "metadata": {
    "collapsed": true
   },
   "outputs": [],
   "source": [
    "def split_row_into_weeks(row):\n",
    "    '''Reshape data so that each row is a different week.'''\n",
    "    #assert len(row) % 7 == 0\n",
    "    return row.reshape([-1, 7])"
   ]
  },
  {
   "cell_type": "markdown",
   "metadata": {},
   "source": [
    "# Plot mean access per day of week"
   ]
  },
  {
   "cell_type": "code",
   "execution_count": null,
   "metadata": {
    "scrolled": true
   },
   "outputs": [],
   "source": [
    "for i, r in enumerate(data_rows(data_path)):\n",
    "    try:\n",
    "        r = np.array(r[6:-6]).astype(np.int) #Get valid weeks\n",
    "        row_weeks = split_row_into_weeks(r)\n",
    "        norm_row_weeks = row_weeks / np.sum(row_weeks, axis=1).reshape([77,1])\n",
    "        week_days_sum = np.sum(norm_row_weeks, axis=0)\n",
    "\n",
    "        #print(week_days_sum)\n",
    "        #print(\"Mean: {} Stddev: {}\".format(np.mean(week_days_sum), np.std(week_days_sum)))\n",
    "        plt.plot(np.mean(norm_row_weeks, axis=0))\n",
    "        plt.show()\n",
    "        \n",
    "        #print(np.mean(norm_row_weeks, axis=0))\n",
    "        #print(np.std(norm_row_weeks, axis=0))\n",
    "        #print()\n",
    "        \n",
    "    except:\n",
    "        pass\n",
    "\n",
    "    \n",
    "    if i >= 5: \n",
    "        break"
   ]
  },
  {
   "cell_type": "code",
   "execution_count": null,
   "metadata": {},
   "outputs": [],
   "source": [
    "n2day = ['monday', 'tuesday', 'wednesday', 'thursday', 'friday', 'saturday', 'sunday']\n",
    "#plt.figure(num=None, figsize=(16, 9), dpi=80, facecolor='w', edgecolor='k')\n",
    "\n",
    "Aparently there is no great divergence among weekdays, maybe is not so relevant\n",
    "\n",
    "for i, r in enumerate(data_rows(data_path)):\n",
    "\n",
    "    \n",
    "    try:\n",
    "        r = np.array(r[6:-6]).astype(np.int) #Get valid weeks\n",
    "        row_weeks = split_row_into_weeks(r)\n",
    "        #norm_row_weeks = row_weeks / np.sum(row_weeks, axis=1).reshape([77,1])\n",
    "        #week_days_sum = np.sum(norm_row_weeks, axis=0)\n",
    "\n",
    "        \n",
    "        \n",
    "        for i, day_data in enumerate(row_weeks.transpose()[:,:].tolist()):\n",
    "            \n",
    "            weeks = range(len(day_data))\n",
    "            \n",
    "            z = np.polyfit(weeks, day_data, 1)\n",
    "            p = np.poly1d(z)\n",
    "            \n",
    "            \n",
    "            plt.plot(weeks, p(weeks), label=n2day[i])\n",
    "            \n",
    "            #plt.plot(day_data, label=n2day[i])\n",
    "            \n",
    "        #plt.figure(num=None, figsize=(16, 9), dpi=80, facecolor='w', edgecolor='k')\n",
    "        plt.legend()\n",
    "        plt.show()\n",
    "        \n",
    "        #monday=0  sunday=6\n",
    "        \n",
    "        #print(week_days_sum)\n",
    "        #print(\"Mean: {} Stddev: {}\".format(np.mean(week_days_sum), np.std(week_days_sum)))\n",
    "        #plt.plot(np.mean(norm_row_weeks, axis=0))\n",
    "        #plt.show()\n",
    "        \n",
    "        #print(np.mean(norm_row_weeks, axis=0))\n",
    "        #print(np.std(norm_row_weeks, axis=0))\n",
    "        #print()\n",
    "        \n",
    "    except:\n",
    "        #print(\"ERROR\")\n",
    "        pass\n",
    "\n",
    "    #print(i)\n",
    "    if i >= 50:\n",
    "        #print(\"OI\")\n",
    "        break"
   ]
  },
  {
   "cell_type": "markdown",
   "metadata": {},
   "source": [
    "# Get the mean number of access per week"
   ]
  },
  {
   "cell_type": "code",
   "execution_count": null,
   "metadata": {
    "collapsed": true
   },
   "outputs": [],
   "source": []
  },
  {
   "cell_type": "code",
   "execution_count": null,
   "metadata": {},
   "outputs": [],
   "source": [
    "rows_means = []\n",
    "\n",
    "coefs = []\n",
    "\n",
    "\n",
    "for r in data_rows(data_path):\n",
    "    try:\n",
    "        r = np.array(r[6:-6]).astype(np.int)\n",
    "        row_weeks = split_row_into_weeks(r)\n",
    "        means = np.mean(row_weeks, axis=1)\n",
    "\n",
    "        weeks = range(len(means))\n",
    "\n",
    "        z = np.polyfit(weeks, means, 1)\n",
    "\n",
    "        coefs.append(z[0])\n",
    "    except:\n",
    "        pass"
   ]
  },
  {
   "cell_type": "markdown",
   "metadata": {},
   "source": [
    "# Get page information from the page string"
   ]
  },
  {
   "cell_type": "code",
   "execution_count": null,
   "metadata": {
    "collapsed": true
   },
   "outputs": [],
   "source": [
    "#Split page data\n",
    "def get_page_info(page):\n",
    "    underscore_split = page.split(\"_\")\n",
    "    \n",
    "    agent = underscore_split[-1]\n",
    "    access_type = underscore_split[-2]\n",
    "    pagelang = underscore_split[-3].split(\".\")[0]\n",
    "    #pagename = \"_\".join(underscore_split[:-3])\n",
    "    \n",
    "    return pagelang, access_type, agent\n",
    "\n",
    "#get_page_info(page_access['Page'][50000])"
   ]
  },
  {
   "cell_type": "markdown",
   "metadata": {},
   "source": [
    "# Get weekday from page data"
   ]
  },
  {
   "cell_type": "code",
   "execution_count": null,
   "metadata": {
    "collapsed": true
   },
   "outputs": [],
   "source": [
    "import datetime\n",
    "def get_weekday(date_str):\n",
    "    year, month, day = (int(x) for x in date_str.split('-'))    \n",
    "    return datetime.date(year, month, day).weekday()"
   ]
  },
  {
   "cell_type": "code",
   "execution_count": null,
   "metadata": {
    "collapsed": true
   },
   "outputs": [],
   "source": [
    "from collections import Counter, defaultdict\n",
    "import math\n",
    "dates = list(df_train)[1:]"
   ]
  },
  {
   "cell_type": "code",
   "execution_count": null,
   "metadata": {},
   "outputs": [],
   "source": [
    "int(df_train.iloc[0][dates[0]])"
   ]
  },
  {
   "cell_type": "code",
   "execution_count": null,
   "metadata": {},
   "outputs": [],
   "source": [
    "df_train.shape"
   ]
  },
  {
   "cell_type": "code",
   "execution_count": null,
   "metadata": {
    "collapsed": true
   },
   "outputs": [],
   "source": [
    "n_weeks = math.ceil(len(dates) / 7)\n",
    "\n",
    "#Remove first and last week that are not complete\n",
    "\n",
    "\n",
    "rows = list()\n",
    "\n",
    "for i in range(df_train.shape[0]):\n",
    "\n",
    "    week_counts = list()\n",
    "    \n",
    "    for date in dates[5:-6]:\n",
    "        day_value = get_weekday(date)\n",
    "\n",
    "        if day_value == 0:\n",
    "            week_counts.append(list())\n",
    "        try:\n",
    "            week_counts[-1].append(int(df_train.iloc[i][date]))\n",
    "        except:\n",
    "            pass\n",
    "        \n",
    "    rows.append(week_counts)"
   ]
  },
  {
   "cell_type": "code",
   "execution_count": null,
   "metadata": {
    "collapsed": true
   },
   "outputs": [],
   "source": [
    "import numpy as np\n",
    "\n",
    "arr = np.array(week_counts)\n",
    "\n",
    "#plt.plot([0,1,2,3,4,5,6], np.sum(arr, axis=0))\n"
   ]
  },
  {
   "cell_type": "code",
   "execution_count": null,
   "metadata": {
    "collapsed": true
   },
   "outputs": [],
   "source": [
    "\n",
    "means = np.sum(arr, axis=1) / 7\n",
    "\n",
    "weeks = np.array(range(n_values))\n"
   ]
  },
  {
   "cell_type": "code",
   "execution_count": null,
   "metadata": {
    "collapsed": true
   },
   "outputs": [],
   "source": [
    "z = np.polyfit(weeks, means, 1)\n",
    "\n",
    "p = np.poly1d(z)"
   ]
  },
  {
   "cell_type": "code",
   "execution_count": null,
   "metadata": {},
   "outputs": [],
   "source": [
    "plt.plot(weeks, p(weeks))\n",
    "plt.plot(weeks, means)"
   ]
  },
  {
   "cell_type": "code",
   "execution_count": null,
   "metadata": {
    "collapsed": true
   },
   "outputs": [],
   "source": [
    "from pandas import Series\n",
    "\n",
    "pagelangs = []\n",
    "access_types = []\n",
    "agents = []\n",
    "\n",
    "for page in page_access['Page']:\n",
    "    #Parse page data from page string\n",
    "    pagelang, access_type, agent = get_page_info(page)\n",
    "    \n",
    "    pagelangs.append(pagelang)\n",
    "    access_types.append(access_type)\n",
    "    agents.append(agent)\n",
    "    \n",
    "#print(pagelangs)\n",
    "    \n",
    "page_access['lang'] = Series(pagelangs, index=page_access.index)\n",
    "page_access['access_type'] = Series(access_types, index=page_access.index)\n",
    "page_access['agent'] = Series(agents, index=page_access.index)"
   ]
  },
  {
   "cell_type": "code",
   "execution_count": null,
   "metadata": {
    "scrolled": true
   },
   "outputs": [],
   "source": [
    "page_access.head()"
   ]
  },
  {
   "cell_type": "code",
   "execution_count": null,
   "metadata": {
    "collapsed": true
   },
   "outputs": [],
   "source": [
    "def reduce_mean(arr):\n",
    "    return sum(arr) / len(arr)"
   ]
  },
  {
   "cell_type": "code",
   "execution_count": null,
   "metadata": {},
   "outputs": [],
   "source": [
    "values = page_access.iloc[1000][1:-3].values\n",
    "mean_values = values / reduce_mean(values)\n",
    "\n",
    "plt.plot(values)\n"
   ]
  },
  {
   "cell_type": "code",
   "execution_count": null,
   "metadata": {},
   "outputs": [],
   "source": [
    "keys = list(page_access)[1:-3]\n",
    "values = list(page_access.iloc[0][1:-3])\n",
    "plt.plot(x=keys,y=values)"
   ]
  },
  {
   "cell_type": "code",
   "execution_count": null,
   "metadata": {},
   "outputs": [],
   "source": [
    "page_access.iloc[10000][1:-3].keys"
   ]
  },
  {
   "cell_type": "markdown",
   "metadata": {},
   "source": [
    "# Get weekday from page data"
   ]
  },
  {
   "cell_type": "code",
   "execution_count": null,
   "metadata": {
    "collapsed": true
   },
   "outputs": [],
   "source": [
    "def get_weekday(date_str):\n",
    "    year, month, day = (int(x) for x in date_str.split('-'))    \n",
    "    return datetime.date(year, month, day).weekday()"
   ]
  },
  {
   "cell_type": "markdown",
   "metadata": {},
   "source": [
    "# Create dummy variables"
   ]
  },
  {
   "cell_type": "code",
   "execution_count": null,
   "metadata": {},
   "outputs": [],
   "source": [
    "dummy_fields = ['lang','access_type','agent']\n",
    "for each in dummy_fields:\n",
    "    dummies = pd.get_dummies(page_access[each], prefix=each, drop_first=False)\n",
    "    page_access = pd.concat([page_access, dummies], axis=1)\n",
    "\n",
    "fields_to_drop = ['lang','access_type','agent']\n",
    "data = page_access.drop(fields_to_drop, axis=1)\n",
    "data.head()"
   ]
  },
  {
   "cell_type": "code",
   "execution_count": null,
   "metadata": {},
   "outputs": [],
   "source": [
    "list(page_access)"
   ]
  },
  {
   "cell_type": "code",
   "execution_count": null,
   "metadata": {
    "collapsed": true
   },
   "outputs": [],
   "source": []
  }
 ],
 "metadata": {
  "kernelspec": {
   "display_name": "Python 3",
   "language": "python",
   "name": "python3"
  },
  "language_info": {
   "codemirror_mode": {
    "name": "ipython",
    "version": 3
   },
   "file_extension": ".py",
   "mimetype": "text/x-python",
   "name": "python",
   "nbconvert_exporter": "python",
   "pygments_lexer": "ipython3",
   "version": "3.5.3"
  }
 },
 "nbformat": 4,
 "nbformat_minor": 2
}
