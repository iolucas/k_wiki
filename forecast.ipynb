{
 "cells": [
  {
   "cell_type": "code",
   "execution_count": 1,
   "metadata": {
    "collapsed": true
   },
   "outputs": [],
   "source": [
    "import pandas as pd\n",
    "import numpy as np\n",
    "from fbprophet import Prophet\n",
    "import multiprocessing as mp\n",
    "\n",
    "%matplotlib inline\n",
    "%config InlineBackend.figure_format = 'retina'\n",
    "import matplotlib.pyplot as plt"
   ]
  },
  {
   "cell_type": "code",
   "execution_count": 2,
   "metadata": {
    "collapsed": true
   },
   "outputs": [],
   "source": [
    "from wikipedia_kaggle import load_wikipedia_dataframe\n",
    "wiki_df = load_wikipedia_dataframe()"
   ]
  },
  {
   "cell_type": "code",
   "execution_count": 3,
   "metadata": {
    "collapsed": true
   },
   "outputs": [],
   "source": [
    "#Dataframe that stores the keys for compact csv files\n",
    "keys_df = pd.read_csv('../key_1.csv/key_1.csv')"
   ]
  },
  {
   "cell_type": "code",
   "execution_count": 4,
   "metadata": {
    "collapsed": true
   },
   "outputs": [],
   "source": [
    "#def get_pagedate_key(pagedate):\n",
    "    #return keys_df.loc[keys_df['Page'] == pagedate]['Id'].values[0]"
   ]
  },
  {
   "cell_type": "code",
   "execution_count": 5,
   "metadata": {
    "collapsed": true
   },
   "outputs": [],
   "source": [
    "#get_pagedate_key(\"2NE1_zh.wikipedia.org_all-access_spider_2017-01-08\")"
   ]
  },
  {
   "cell_type": "code",
   "execution_count": 6,
   "metadata": {
    "collapsed": true
   },
   "outputs": [],
   "source": [
    "train_date_stamps = list(wiki_df.axes[1][1:-4])\n",
    "\n",
    "future_df = pd.read_csv('forecast_csv.csv')"
   ]
  },
  {
   "cell_type": "code",
   "execution_count": 7,
   "metadata": {
    "collapsed": true
   },
   "outputs": [],
   "source": [
    "def forecast_row(row_series):\n",
    "    pagename = row_series['Page']\n",
    "    row_values = row_series.drop(['Page', 'lang', 'access_type', 'agent', 'pagename']).tolist()\n",
    "    \n",
    "    train_df = pd.DataFrame(data={'ds':train_date_stamps, 'y':row_values})\n",
    "    \n",
    "    m = Prophet(yearly_seasonality=False, uncertainty_samples = 0)\n",
    "    \n",
    "    #try:\n",
    "    m.fit(train_df) #Train classifier\n",
    "    forecast = m.predict(future_df)\n",
    "    \n",
    "    #except TypeError:\n",
    "        #If type error, mean every value is missing\n",
    "        #return forecast of 0\n",
    "        #forecast = pd.DataFrame(data={'ds':future_df, 'yhat':[0]*len(future_df)})\n",
    "\n",
    "    \n",
    "    forecast['yhat'] = forecast['yhat'].clip(lower=0, axis=0).round(2) #Ensure negative values go 0, round to save space\n",
    "    forecast['ds'] = pd.Series(data=[pagename + \"_\"]*row_series.size) + forecast['ds'].map(lambda a: str(a)[:-9])\n",
    "    \n",
    "    return forecast[['ds','yhat']]"
   ]
  },
  {
   "cell_type": "code",
   "execution_count": 8,
   "metadata": {
    "collapsed": true
   },
   "outputs": [],
   "source": [
    "def forecast_and_save(fc_index):\n",
    "    fc = forecast_row(wiki_df.iloc[fc_index])\n",
    "    #Get index of the first item id\n",
    "    \n",
    "    first_index = keys_df.loc[keys_df['Page'] == fc['ds'][0]].index[0]\n",
    "    \n",
    "    def get_pagekey(k):\n",
    "        return keys_dict[k]\n",
    "    \n",
    "    \n",
    "    #Create keys dict\n",
    "    keys_dict = dict(keys_df[first_index:first_index + 500].values)\n",
    "    \n",
    "    #try:\n",
    "    fc['ds'] = fc['ds'].map(get_pagekey)\n",
    "    fc.to_csv(\"forecasts/fc_{}.csv\".format(fc_index), index=False)\n",
    "    \n",
    "    #except KeyError:\n",
    "        #print(first_index)\n",
    "        #raise Exception(\"sfasf\")\n",
    "    "
   ]
  },
  {
   "cell_type": "code",
   "execution_count": 10,
   "metadata": {
    "collapsed": true
   },
   "outputs": [],
   "source": [
    "import time"
   ]
  },
  {
   "cell_type": "code",
   "execution_count": null,
   "metadata": {},
   "outputs": [],
   "source": [
    "with mp.Pool(1) as pool:\n",
    "    start_time = time.time()\n",
    "    pool.map(forecast_and_save, range(60000,60050))\n",
    "    end_time = time.time() - start_time\n",
    "    print(end_time)"
   ]
  },
  {
   "cell_type": "code",
   "execution_count": 12,
   "metadata": {
    "collapsed": true
   },
   "outputs": [],
   "source": [
    "from IPython.display import clear_output\n",
    "\n",
    "#for fc_index in range(146,500):\n",
    "    #clear_output(wait=True)\n",
    "    #print(\"Working on {}...\".format(fc_index))\n",
    "    #forecast_and_save(fc_index)"
   ]
  },
  {
   "cell_type": "code",
   "execution_count": 13,
   "metadata": {
    "collapsed": true
   },
   "outputs": [],
   "source": [
    "#print(len(wiki_df))"
   ]
  },
  {
   "cell_type": "code",
   "execution_count": 14,
   "metadata": {
    "collapsed": true
   },
   "outputs": [],
   "source": [
    "pool = mp.Pool(4) # use 4 processes"
   ]
  },
  {
   "cell_type": "code",
   "execution_count": 15,
   "metadata": {
    "collapsed": true
   },
   "outputs": [],
   "source": [
    "#from ThreadPool import ThreadPool"
   ]
  },
  {
   "cell_type": "code",
   "execution_count": 16,
   "metadata": {
    "collapsed": true
   },
   "outputs": [],
   "source": [
    "#pool = ThreadPool(100)"
   ]
  },
  {
   "cell_type": "code",
   "execution_count": 19,
   "metadata": {
    "collapsed": true
   },
   "outputs": [],
   "source": [
    "def forecast_and_save_range(start, stop):\n",
    "    for fc_index in range(start, stop):\n",
    "        clear_output(wait=True)\n",
    "        print(\"Working on {}...\".format(fc_index))\n",
    "        try:\n",
    "            forecast_and_save(fc_index)\n",
    "        except:\n",
    "            print(\"ERROR ON {}\".format(fc_index))"
   ]
  },
  {
   "cell_type": "code",
   "execution_count": 24,
   "metadata": {},
   "outputs": [
    {
     "name": "stdout",
     "output_type": "stream",
     "text": [
      "<class 'function'>\n",
      "<class 'function'>\n",
      "<class 'function'>\n",
      "<class 'function'>\n",
      "<class 'function'>\n"
     ]
    }
   ],
   "source": [
    "for s in range(50000, 51000, 200):\n",
    "    print(type(forecast_and_save_range))\n",
    "    start = s\n",
    "    stop = s + 500\n",
    "    #pool.apply_async(forecast_and_save_range,[start, stop])\n",
    "    pool.add_task(forecast_and_save_range, start, stop)"
   ]
  },
  {
   "cell_type": "code",
   "execution_count": 23,
   "metadata": {
    "collapsed": true
   },
   "outputs": [],
   "source": [
    "#pool.wait_completion()"
   ]
  },
  {
   "cell_type": "code",
   "execution_count": null,
   "metadata": {
    "collapsed": true
   },
   "outputs": [],
   "source": [
    "print(\"DONE!\")"
   ]
  }
 ],
 "metadata": {
  "kernelspec": {
   "display_name": "Python 3",
   "language": "python",
   "name": "python3"
  },
  "language_info": {
   "codemirror_mode": {
    "name": "ipython",
    "version": 3
   },
   "file_extension": ".py",
   "mimetype": "text/x-python",
   "name": "python",
   "nbconvert_exporter": "python",
   "pygments_lexer": "ipython3",
   "version": "3.5.3"
  }
 },
 "nbformat": 4,
 "nbformat_minor": 2
}
